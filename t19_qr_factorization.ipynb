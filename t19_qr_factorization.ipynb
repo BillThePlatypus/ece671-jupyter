{
 "cells": [
  {
   "cell_type": "markdown",
   "metadata": {},
   "source": [
    "# QR Factorization "
   ]
  },
  {
   "cell_type": "markdown",
   "metadata": {},
   "source": [
    "AUTHOR \n",
    "\n",
    "MD SHORIFUL ISLAM;   \n",
    "EMAIL- ISLAM5@BYU.EDU"
   ]
  },
  {
   "cell_type": "markdown",
   "metadata": {},
   "source": [
    "# Introduction \n",
    "In linear algebra, a QR factorization of a matrix is a factorization of a matrix A into a product $A = QR$ of an orthogonal matrix Q and an upper triangular matrix R. QR factorization is often used to solve the linear least squares problem and is the basis for a particular eigenvalue algorithm, the QR algorithm.\n",
    "One of the key benefits of using QR factorization over other methods for solving linear least squares is that it is more numerically stable, albeit at the expense of being slower to execute. Hence if we are performing a large quantity of regressions as part of a trading backtest, for instance, we need to consider very extensively whether QR factorization is the best fit.\n",
    "\n",
    "For a square matrix A the QR factorization converts A into the product of an orthogonal matrix Q (i.e. $QTQ=I$) and an upper triangular matrix R. Hence:\n",
    "\n",
    "$A=QR$\n",
    "The first step is to create the vector x, which is the k-th column of the matrix A, for step k. We define $α=−sgn(xk)(||x||)$. The norm $||⋅||$ used here is the Euclidean norm. Given the first column vector of the identity matrix, I of equal size to A, $e1=(1,0,...,0)T$, we create the vector u:\n",
    "\n",
    "$u=x+αe1$\n",
    "Once we have the vector u, we need to convert it to a unit vector, which we denote as v:\n",
    "\n",
    "$v=u/||u||$\n",
    "Now we form the matrix Q out of the identity matrix I and the vector multiplication of v:\n",
    "\n",
    "$Q=I−2vvT$\n",
    "Q is now an m×m Householder matrix, with $Qx=(α,0,...,0)T$. We will use Q to transform A to upper triangular form, giving us the matrix R. We denote Q as Qk and, since k=1 in this first step, we have Q1 as our first Householder matrix. \n",
    "Hence, we define Qk as the block matrix $Q_{k}$:\n",
    "\n",
    "\\begin{bmatrix}\n",
    "I_{k-1} & 0\\\\\n",
    "0 & Q_{k}\n",
    "\\end{bmatrix}\n",
    "\n",
    "$Q_{k}=(I_{k}−100Q′_{k})$\n",
    "Once we have carried out t iterations of this process we have R as an upper triangular matrix:\n",
    "\n",
    "$R=Q_{t}...Q_{2}Q_{1}A$\n",
    "Q is then fully defined as the multiplication of the transposes of each Qk:\n",
    "\n",
    "$Q=Q^{T}_{1}Q^{T}_{2}...Q^{T}_{t}$\n",
    "\n",
    "This gives $A=QR$, the QR factorization of A."
   ]
  },
  {
   "cell_type": "code",
   "execution_count": 26,
   "metadata": {},
   "outputs": [],
   "source": [
    "#Finding the QR factorization using SciPy\n",
    "#Print A, Q and R at the output\n",
    "import pprint"
   ]
  },
  {
   "cell_type": "code",
   "execution_count": 27,
   "metadata": {},
   "outputs": [],
   "source": [
    "import scipy"
   ]
  },
  {
   "cell_type": "code",
   "execution_count": 28,
   "metadata": {},
   "outputs": [],
   "source": [
    "import scipy.linalg   # SciPy Linear Algebra Library"
   ]
  },
  {
   "cell_type": "code",
   "execution_count": 29,
   "metadata": {},
   "outputs": [],
   "source": [
    "#Create an matrix\n",
    "A = scipy.array([[12, -51, 4], [6, 167, -68], [-4, 24, -41]])  # From the Wikipedia Article on QR factorization\n",
    "Q, R = scipy.linalg.qr(A)"
   ]
  },
  {
   "cell_type": "code",
   "execution_count": 30,
   "metadata": {},
   "outputs": [
    {
     "name": "stdout",
     "output_type": "stream",
     "text": [
      "A:\n",
      "array([[ 12, -51,   4],\n",
      "       [  6, 167, -68],\n",
      "       [ -4,  24, -41]])\n"
     ]
    }
   ],
   "source": [
    "#print A matrix\n",
    "print (\"A:\")\n",
    "#Print the formatted represntation of A on stream, followed by a newline\n",
    "pprint.pprint(A)"
   ]
  },
  {
   "cell_type": "code",
   "execution_count": 8,
   "metadata": {},
   "outputs": [
    {
     "name": "stdout",
     "output_type": "stream",
     "text": [
      "Q:\n",
      "array([[-0.85714286,  0.39428571,  0.33142857],\n",
      "       [-0.42857143, -0.90285714, -0.03428571],\n",
      "       [ 0.28571429, -0.17142857,  0.94285714]])\n"
     ]
    }
   ],
   "source": [
    "print (\"Q:\")\n",
    "pprint.pprint(Q)"
   ]
  },
  {
   "cell_type": "code",
   "execution_count": 10,
   "metadata": {},
   "outputs": [
    {
     "name": "stdout",
     "output_type": "stream",
     "text": [
      "R:\n",
      "array([[ -14.,  -21.,   14.],\n",
      "       [   0., -175.,   70.],\n",
      "       [   0.,    0.,  -35.]])\n"
     ]
    }
   ],
   "source": [
    "print (\"R:\")\n",
    "pprint.pprint(R)"
   ]
  },
  {
   "cell_type": "markdown",
   "metadata": {},
   "source": [
    "# Python implementation of QR factorization without any library "
   ]
  },
  {
   "cell_type": "code",
   "execution_count": 11,
   "metadata": {},
   "outputs": [],
   "source": [
    "from math import sqrt"
   ]
  },
  {
   "cell_type": "code",
   "execution_count": 12,
   "metadata": {},
   "outputs": [],
   "source": [
    "from pprint import pprint"
   ]
  },
  {
   "cell_type": "code",
   "execution_count": 17,
   "metadata": {},
   "outputs": [],
   "source": [
    "def mult_matrix(M, N):\n",
    "    \"\"\"Multiply square matrices of same dimension M and N\"\"\"\n",
    "    # Converts N into a list of tuples of columns                                                                     \n",
    "    tuple_N = zip(*N)\n",
    "        # Nested list comprehension to calculate matrix multiplication                                                    \n",
    "    return [[sum(el_m * el_n for el_m, el_n in zip(row_m, col_n)) for col_n in tuple_N] for row_m in M]"
   ]
  },
  {
   "cell_type": "code",
   "execution_count": 18,
   "metadata": {},
   "outputs": [],
   "source": [
    "def trans_matrix(M):\n",
    "    \"\"\"Take the transpose of a matrix.\"\"\"\n",
    "    n = len(M)\n",
    "    return [[ M[i][j] for i in range(n)] for j in range(n)]\n"
   ]
  },
  {
   "cell_type": "code",
   "execution_count": 19,
   "metadata": {},
   "outputs": [],
   "source": [
    "def norm(x):\n",
    "    \"\"\"Return the Euclidean norm of the vector x.\"\"\"\n",
    "    return sqrt(sum([x_i**2 for x_i in x]))\n"
   ]
  },
  {
   "cell_type": "code",
   "execution_count": 20,
   "metadata": {},
   "outputs": [],
   "source": [
    "def Q_i(Q_min, i, j, k):\n",
    "    \"\"\"Construct the Q_t matrix by left-top padding the matrix Q                                                      \n",
    "    with elements from the identity matrix.\"\"\"\n",
    "    if i < k or j < k:\n",
    "        return float(i == j)\n",
    "    else:\n",
    "        return Q_min[i-k][j-k]\n"
   ]
  },
  {
   "cell_type": "code",
   "execution_count": 21,
   "metadata": {},
   "outputs": [],
   "source": [
    "def householder(A):\n",
    "    \"\"\"Performs a Householder Reflections based QR Decomposition of the                                               \n",
    "    matrix A. The function returns Q, an orthogonal matrix and R, an                                                  \n",
    "    upper triangular matrix such that A = QR.\"\"\"\n",
    "    n = len(A)\n",
    "\n",
    "    # Set R equal to A, and create Q as a zero matrix of the same size\n",
    "    R = A\n",
    "    Q = [[0.0] * n for i in xrange(n)]\n",
    "\n",
    "    # The Householder procedure\n",
    "    for k in range(n-1):  # We don't perform the procedure on a 1x1 matrix, so we reduce the index by 1\n",
    "        # Create identity matrix of same size as A                                                                    \n",
    "        I = [[float(i == j) for i in xrange(n)] for j in xrange(n)]\n",
    "\n",
    "        # Create the vectors x, e and the scalar alpha\n",
    "        # Python does not have a sgn function, so we use cmp instead\n",
    "        x = [row[k] for row in R[k:]]\n",
    "        e = [row[k] for row in I[k:]]\n",
    "        alpha = -cmp(x[0],0) * norm(x)\n",
    "\n",
    "        # Using anonymous functions, we create u and v\n",
    "        u = map(lambda p,q: p + alpha * q, x, e)\n",
    "        norm_u = norm(u)\n",
    "        v = map(lambda p: p/norm_u, u)\n",
    "\n",
    "        # Create the Q minor matrix\n",
    "        Q_min = [ [float(i==j) - 2.0 * v[i] * v[j] for i in xrange(n-k)] for j in xrange(n-k) ]\n",
    "\n",
    "        # \"Pad out\" the Q minor matrix with elements from the identity\n",
    "        Q_t = [[ Q_i(Q_min,i,j,k) for i in xrange(n)] for j in xrange(n)]\n",
    "\n",
    "        # If this is the first run through, right multiply by A,\n",
    "        # else right multiply by Q\n",
    "        if k == 0:\n",
    "            Q = Q_t\n",
    "            R = mult_matrix(Q_t,A)\n",
    "        else:\n",
    "            Q = mult_matrix(Q_t,Q)\n",
    "            R = mult_matrix(Q_t,R)\n",
    "\n",
    "    # Since Q is defined as the product of transposes of Q_t,\n",
    "    # we need to take the transpose upon returning it\n",
    "    return trans_matrix(Q), R"
   ]
  },
  {
   "cell_type": "code",
   "execution_count": 22,
   "metadata": {
    "collapsed": true
   },
   "outputs": [
    {
     "ename": "NameError",
     "evalue": "name 'xrange' is not defined",
     "output_type": "error",
     "traceback": [
      "\u001b[1;31m---------------------------------------------------------------------------\u001b[0m",
      "\u001b[1;31mNameError\u001b[0m                                 Traceback (most recent call last)",
      "\u001b[1;32m<ipython-input-22-1a53819c1dd4>\u001b[0m in \u001b[0;36m<module>\u001b[1;34m()\u001b[0m\n\u001b[0;32m      1\u001b[0m \u001b[0mA\u001b[0m \u001b[1;33m=\u001b[0m \u001b[1;33m[\u001b[0m\u001b[1;33m[\u001b[0m\u001b[1;36m12\u001b[0m\u001b[1;33m,\u001b[0m \u001b[1;33m-\u001b[0m\u001b[1;36m51\u001b[0m\u001b[1;33m,\u001b[0m \u001b[1;36m4\u001b[0m\u001b[1;33m]\u001b[0m\u001b[1;33m,\u001b[0m \u001b[1;33m[\u001b[0m\u001b[1;36m6\u001b[0m\u001b[1;33m,\u001b[0m \u001b[1;36m167\u001b[0m\u001b[1;33m,\u001b[0m \u001b[1;33m-\u001b[0m\u001b[1;36m68\u001b[0m\u001b[1;33m]\u001b[0m\u001b[1;33m,\u001b[0m \u001b[1;33m[\u001b[0m\u001b[1;33m-\u001b[0m\u001b[1;36m4\u001b[0m\u001b[1;33m,\u001b[0m \u001b[1;36m24\u001b[0m\u001b[1;33m,\u001b[0m \u001b[1;33m-\u001b[0m\u001b[1;36m41\u001b[0m\u001b[1;33m]\u001b[0m\u001b[1;33m]\u001b[0m\u001b[1;33m\u001b[0m\u001b[0m\n\u001b[1;32m----> 2\u001b[1;33m \u001b[0mQ\u001b[0m\u001b[1;33m,\u001b[0m \u001b[0mR\u001b[0m \u001b[1;33m=\u001b[0m \u001b[0mhouseholder\u001b[0m\u001b[1;33m(\u001b[0m\u001b[0mA\u001b[0m\u001b[1;33m)\u001b[0m\u001b[1;33m\u001b[0m\u001b[0m\n\u001b[0m",
      "\u001b[1;32m<ipython-input-21-fa6a7b5c754e>\u001b[0m in \u001b[0;36mhouseholder\u001b[1;34m(A)\u001b[0m\n\u001b[0;32m      7\u001b[0m     \u001b[1;31m# Set R equal to A, and create Q as a zero matrix of the same size\u001b[0m\u001b[1;33m\u001b[0m\u001b[1;33m\u001b[0m\u001b[0m\n\u001b[0;32m      8\u001b[0m     \u001b[0mR\u001b[0m \u001b[1;33m=\u001b[0m \u001b[0mA\u001b[0m\u001b[1;33m\u001b[0m\u001b[0m\n\u001b[1;32m----> 9\u001b[1;33m     \u001b[0mQ\u001b[0m \u001b[1;33m=\u001b[0m \u001b[1;33m[\u001b[0m\u001b[1;33m[\u001b[0m\u001b[1;36m0.0\u001b[0m\u001b[1;33m]\u001b[0m \u001b[1;33m*\u001b[0m \u001b[0mn\u001b[0m \u001b[1;32mfor\u001b[0m \u001b[0mi\u001b[0m \u001b[1;32min\u001b[0m \u001b[0mxrange\u001b[0m\u001b[1;33m(\u001b[0m\u001b[0mn\u001b[0m\u001b[1;33m)\u001b[0m\u001b[1;33m]\u001b[0m\u001b[1;33m\u001b[0m\u001b[0m\n\u001b[0m\u001b[0;32m     10\u001b[0m \u001b[1;33m\u001b[0m\u001b[0m\n\u001b[0;32m     11\u001b[0m     \u001b[1;31m# The Householder procedure\u001b[0m\u001b[1;33m\u001b[0m\u001b[1;33m\u001b[0m\u001b[0m\n",
      "\u001b[1;31mNameError\u001b[0m: name 'xrange' is not defined"
     ]
    }
   ],
   "source": [
    "#creating a matrix \n",
    "A = [[12, -51, 4], [6, 167, -68], [-4, 24, -41]]\n",
    "#finding the QR factorization\n",
    "Q, R = householder(A)"
   ]
  },
  {
   "cell_type": "code",
   "execution_count": 23,
   "metadata": {},
   "outputs": [
    {
     "name": "stdout",
     "output_type": "stream",
     "text": [
      "A:\n",
      "[[12, -51, 4], [6, 167, -68], [-4, 24, -41]]\n"
     ]
    }
   ],
   "source": [
    "print (\"A:\")\n",
    "pprint(A)"
   ]
  },
  {
   "cell_type": "code",
   "execution_count": 24,
   "metadata": {},
   "outputs": [
    {
     "name": "stdout",
     "output_type": "stream",
     "text": [
      "Q:\n",
      "array([[-0.85714286,  0.39428571,  0.33142857],\n",
      "       [-0.42857143, -0.90285714, -0.03428571],\n",
      "       [ 0.28571429, -0.17142857,  0.94285714]])\n"
     ]
    }
   ],
   "source": [
    "print (\"Q:\")\n",
    "pprint(Q)"
   ]
  },
  {
   "cell_type": "code",
   "execution_count": 25,
   "metadata": {},
   "outputs": [
    {
     "name": "stdout",
     "output_type": "stream",
     "text": [
      "R:\n",
      "array([[ -14.,  -21.,   14.],\n",
      "       [   0., -175.,   70.],\n",
      "       [   0.,    0.,  -35.]])\n"
     ]
    }
   ],
   "source": [
    "print (\"R:\")\n",
    "pprint(R)"
   ]
  },
  {
   "cell_type": "markdown",
   "metadata": {},
   "source": [
    "# Application of QR Factorization "
   ]
  },
  {
   "cell_type": "markdown",
   "metadata": {},
   "source": [
    "# Linear Equations\n",
    "\n",
    "In numerical analysis, different factorization are used to implement efficient matrix algorithms. For instance, when solving a system of linear equations , the matrix A can be factorized via the LU factorization. The LU factorization factorizes a matrix into a lower triangular matrix L and an upper triangular matrix U. The systems and require fewer additions and multiplications to solve, compared with the original system , though one might require significantly more digits in inexact arithmetic such as floating point.\n",
    "Similarly, the QR factorization expresses A as QR with Q a unitary matrix and R an upper triangular matrix. The system $Q(Rx) = b$ is solved by $Rx = Q^{T}b = c$, and the system $Rx = c$ is solved by 'back substitution'. The number of additions and multiplications required is about twice that of using the LU solver, but no more digits are required in inexact arithmetic because the QR factorization is numerically stable."
   ]
  },
  {
   "cell_type": "markdown",
   "metadata": {},
   "source": [
    "# Eigenvalues\n",
    "\n",
    "Even though QR factorization can be used to solve a system of Linear Equations and is in fact better than Gaussian Elimination in terms of stability, it is rarely used for the same because of its cost of computation being twice that of Gaussian elimination.\n",
    "Another important use of QR factorization is inspiring the QR algorithm for calculation of eigen value factorization."
   ]
  },
  {
   "cell_type": "markdown",
   "metadata": {},
   "source": [
    "# Conclusion \n",
    "The result of the python generated code and the SciPy code should be same for the accurate python code. I got the same result for the python code and SciPy. This code is valid only both for the Python2 and Python3. It may show some error in python3 because python3 prefers range instead of xrange command. xrange need to be change in range for python3 which is a valid command to avoid any kind of error. "
   ]
  },
  {
   "cell_type": "code",
   "execution_count": null,
   "metadata": {},
   "outputs": [],
   "source": []
  }
 ],
 "metadata": {
  "kernelspec": {
   "display_name": "Python 3",
   "language": "python",
   "name": "python3"
  },
  "language_info": {
   "codemirror_mode": {
    "name": "ipython",
    "version": 2
   },
   "file_extension": ".py",
   "mimetype": "text/x-python",
   "name": "python",
   "nbconvert_exporter": "python",
   "pygments_lexer": "ipython2",
   "version": "2.7.15"
  }
 },
 "nbformat": 4,
 "nbformat_minor": 2
}
