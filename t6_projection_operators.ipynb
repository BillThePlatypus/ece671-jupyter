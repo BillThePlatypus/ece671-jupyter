{
 "cells": [
  {
   "cell_type": "markdown",
   "metadata": {},
   "source": [
    "[Table of Contents](table_of_contents.ipynb)"
   ]
  },
  {
   "cell_type": "markdown",
   "metadata": {},
   "source": [
    "# Topic 6.  Projection Operators\n",
    "\n",
    "Author: Alexander Petrie     \n",
    "Email: alexander.petrie@gmail.com\n",
    "    "
   ]
  },
  {
   "cell_type": "markdown",
   "metadata": {},
   "source": [
    "##  Introduction\n",
    "\n",
    "A projection is a mapping of some space onto a subspace of the original space. A **projection operator** is a linear operator P that maps a space to the subspace. In order for an operater to be a projection operator, it must be idempotent. This means that whenever P is applied twice to any value, it gives the same result as if it were applied just once. i.e. $P^2 = P$. One example of a projection is mapping a 3D object onto a 2D subspace. This is done in video games. The graphics are often generated in a 3D environment and they are then projected onto a 2D screen so we can see them. A projection is an orthogonal projection if its range and nullspace are orthogonal. "
   ]
  },
  {
   "cell_type": "markdown",
   "metadata": {},
   "source": [
    "##  Explaination of the theory\n",
    "Let $W$ be a finite dimentional vector space and $P$ be a projection on $W$. Suppose the subspaces $U$ avnd $V$ are the range and null space of $P$ respectively. \n",
    "\n",
    "### Properties of a projection operator\n",
    "* $P^2 = P$ ($P$ is *idempotent*)\n",
    "    * This means that if you use $P$ to try to operate on a value that has already been operated on by $P$, the value will not change.      \n",
    "    \n",
    "    \n",
    "* $\\forall \\, x \\in U \\, \\colon \\, Px = x$\n",
    "    * This means that if $P$ operates on some value in the range space of $P$, that value does not change.\n",
    "    \n",
    "    \n",
    "* There is a direct sum $W = U \\bigoplus V$. Every vector x in $W$ my be decomposed as x = u + v where u is in range of $P$ and v is in the null space of $P$\n",
    "    * In other words: if $P\\,\\colon\\;W\\rightarrow W$, then $W = \\mathcal{R}(P) + \\mathcal{N}(P)$\n",
    "    \n",
    "    \n",
    "* The range and null space of a projection are complimentary, meaning they are disjoint.\n",
    "\n",
    "\n",
    "* If $P$ is a projection, $(I - P)$ is also a projection.\n",
    "    * Proof: $(I-P)^2 = (I-P)(I-P)$      \n",
    "    $=I-P-P-P^2 = I - P - P + P$      \n",
    "    $= I-P$\n",
    "    \n",
    "    \n",
    "* $P$ projects onto the range space $U$.  $(I-P)$ projects onto the null space $V$.\n",
    "\n",
    "### Orthogonal projections\n",
    "When $U$ (range space of $P$) and $V$ (null space of $P$) are orthogonal subspaces, ($\\mathcal{R}(P)\\, \\bot\\,\\mathcal{N}(P)$), $P$ is an **orthogonal projection**. Orthogonal projections are very useful because if you can orthgonally project a value onto a subspace, that projection is the closest representation of the value on that subspace (see engineering example at the end). "
   ]
  },
  {
   "cell_type": "markdown",
   "metadata": {},
   "source": [
    "## Simple Numerical Example\n",
    "\n",
    "### Example 1\n",
    "\n",
    "This first example is an orthogonal projection of a vector in $\\mathbb{R}^2$ to the line y = 0. It orthogonally projects all points in $\\mathbb{R}^2$ to this line.   \n",
    "The projection matrix is:\n",
    "$$\n",
    "   P=\n",
    "  \\left[ {\\begin{array}{cc}\n",
    "   1 & 0 \\\\\n",
    "   0 & 0 \\\\\n",
    "  \\end{array} } \\right]\n",
    "$$\n",
    "\n",
    "You can verify it is a projection by computing $P^2 = P$.          \n",
    "You can change the x and y points in the code and it will show how they project onto the line y = 0."
   ]
  },
  {
   "cell_type": "code",
   "execution_count": 54,
   "metadata": {
    "scrolled": true
   },
   "outputs": [
    {
     "data": {
      "text/plain": [
       "Text(0,0.5,'y - axis')"
      ]
     },
     "execution_count": 54,
     "metadata": {},
     "output_type": "execute_result"
    },
    {
     "data": {
      "image/png": "[encoded data removed]",
      "text/plain": [
       "<Figure size 432x288 with 1 Axes>"
      ]
     },
     "metadata": {
      "needs_background": "light"
     },
     "output_type": "display_data"
    }
   ],
   "source": [
    "import numpy as np\n",
    "import matplotlib.pyplot as plt \n",
    "\n",
    "# Change the variables below (keep values between -10 and 10)\n",
    "x = -2\n",
    "y = 5\n",
    "\n",
    "# Form vector (in R2) z from points x and y\n",
    "z = np.array([[x],[y]])\n",
    "\n",
    "#Form projection matrix\n",
    "P = np.array([[1,0],[0,0]])\n",
    "\n",
    "#project z onto line y = 0\n",
    "z_proj = np.dot(P,z)\n",
    "\n",
    "#plot result\n",
    "plt.plot([z[0],z_proj[0]],[z[1],z_proj[1]],color='green', linestyle='dashed', linewidth = 3, \n",
    "         marker='o', markerfacecolor='blue', markersize=8)\n",
    "plt.ylim(-10, 10)\n",
    "plt.xlim(-10, 10)\n",
    "plt.plot([-10,10],[0,0])\n",
    "# x-axis label \n",
    "plt.xlabel('x - axis') \n",
    "# frequency label \n",
    "plt.ylabel('y - axis') "
   ]
  },
  {
   "cell_type": "markdown",
   "metadata": {},
   "source": [
    "### Example 2\n",
    "\n",
    "This example is similar to the first in that it maps all points in $\\mathbb{R}^2$ to a line. However, now the line is y = x. \n",
    "The projection matrix in this case is: \n",
    "\n",
    "$$\n",
    "   P=\n",
    "  \\left[ {\\begin{array}{cc}\n",
    "   0.5 & 0.5 \\\\\n",
    "   0.5 & 0.5 \\\\\n",
    "  \\end{array} } \\right]\n",
    "$$    \n",
    "You can change the x and y points in the code and it will show how they project onto the line y = x."
   ]
  },
  {
   "cell_type": "code",
   "execution_count": 67,
   "metadata": {},
   "outputs": [
    {
     "data": {
      "text/plain": [
       "(-11.0, 11.0, -11.0, 11.0)"
      ]
     },
     "execution_count": 67,
     "metadata": {},
     "output_type": "execute_result"
    },
    {
     "data": {
      "image/png": "[encoded data removed]",
      "text/plain": [
       "<Figure size 432x288 with 1 Axes>"
      ]
     },
     "metadata": {
      "needs_background": "light"
     },
     "output_type": "display_data"
    }
   ],
   "source": [
    "import numpy as np\n",
    "import matplotlib.pyplot as plt \n",
    "\n",
    "# Change the variables below (keep values between -10 and 10)\n",
    "x = -5\n",
    "y = 8\n",
    "\n",
    "# Form vector (in R2) z from points x and y\n",
    "z = np.array([[x],[y]])\n",
    "\n",
    "#Form projection matrix\n",
    "P = np.array([[0.5,0.5],[0.5,0.5]])\n",
    "\n",
    "#project z onto line y = 0\n",
    "z_proj = np.dot(P,z)\n",
    "\n",
    "#plot result\n",
    "plt.plot([z[0],z_proj[0]],[z[1],z_proj[1]],color='green', linestyle='dashed', linewidth = 3, \n",
    "         marker='o', markerfacecolor='blue', markersize=8)\n",
    "plt.ylim(-10, 10)\n",
    "plt.xlim(-10, 10)\n",
    "plt.plot([-10,10],[-10,10])\n",
    "# x-axis label \n",
    "plt.xlabel('x - axis') \n",
    "# frequency label \n",
    "plt.ylabel('y - axis') \n",
    "plt.axis('equal')"
   ]
  },
  {
   "cell_type": "markdown",
   "metadata": {},
   "source": [
    "## An Engineering Application\n",
    "\n",
    "If we are given a point $x \\in S$, suppose that we would like to approximate $x$ with a point in $V \\subset S$. Assuming that $x \\notin V$, we need to find the point in $V$ that is closest to $x$. This point is given by the orthogonal projection of $x$ onto $V$. \n",
    "\n",
    "In this example, let $V$ be the plane in $\\mathbb{R}^3$ spanned by the vectors $\n",
    "  y = \\left[ {\\begin{array}{c}\n",
    "   1  \\\\\n",
    "   0  \\\\\n",
    "   1  \\\\\n",
    "  \\end{array} } \\right]\n",
    "$\n",
    "and\n",
    "$\n",
    "  z =\\left[ {\\begin{array}{c}\n",
    "   0 \\\\\n",
    "    1 \\\\\n",
    "    1 \\\\\n",
    "  \\end{array} } \\right]\n",
    "$.\n",
    "\n",
    "If $\n",
    "A=\n",
    "  \\left[ {\\begin{array}{cc}\n",
    "   1 & 0 \\\\\n",
    "   0 & 1 \\\\\n",
    "   1 & 1 \\\\\n",
    "  \\end{array} } \\right]\n",
    "$ \n",
    "then the projection matrix that projects points in $\\mathbb{R}^3$ orthogonally onto the plane spanned by $y$ and $z$ is described by $P = A(A^HA)^{-1}A^H$. Note that the columns of $A$ are the vectors that span $V$. In the python code below, we project the vector \n",
    "$\n",
    "  q =\\left[ {\\begin{array}{c}\n",
    "   7 \\\\\n",
    "    8 \\\\\n",
    "    9 \\\\\n",
    "  \\end{array} } \\right]\n",
    "$\n",
    "onto the plane $V = span(x,y)$, and get $\n",
    "  Pq =\\left[ {\\begin{array}{c}\n",
    "   5 \\\\\n",
    "    6 \\\\\n",
    "    11 \\\\\n",
    "  \\end{array} } \\right]\n",
    "$.\n",
    "\n",
    "This vector is the closest approximation of $q$ on $V$."
   ]
  },
  {
   "cell_type": "code",
   "execution_count": 91,
   "metadata": {},
   "outputs": [
    {
     "name": "stdout",
     "output_type": "stream",
     "text": [
      "This is the projection matrix\n",
      "[[ 0.66666667 -0.33333333  0.33333333]\n",
      " [-0.33333333  0.66666667  0.33333333]\n",
      " [ 0.33333333  0.33333333  0.66666667]]\n",
      "This is the approximation on the plane V\n",
      "[[ 5.]\n",
      " [ 6.]\n",
      " [11.]]\n"
     ]
    }
   ],
   "source": [
    "import numpy as np\n",
    "\n",
    "A = np.array([[1, 0],[0, 1],[1, 1]])\n",
    "T = np.linalg.inv(np.dot(A.T,A))\n",
    "P = np.dot(T,A.T)\n",
    "P = np.dot(A,P)\n",
    "print('This is the projection matrix')\n",
    "print(P)\n",
    "\n",
    "q = np.array([[7],[8],[9]])\n",
    "Pq = np.dot(P,q)\n",
    "print('This is the approximation on the plane V')\n",
    "print(Pq)"
   ]
  }
 ],
 "metadata": {
  "kernelspec": {
   "display_name": "Python 3",
   "language": "python",
   "name": "python3"
  },
  "language_info": {
   "codemirror_mode": {
    "name": "ipython",
    "version": 3
   },
   "file_extension": ".py",
   "mimetype": "text/x-python",
   "name": "python",
   "nbconvert_exporter": "python",
   "pygments_lexer": "ipython3",
   "version": "3.7.0"
  }
 },
 "nbformat": 4,
 "nbformat_minor": 2
}
